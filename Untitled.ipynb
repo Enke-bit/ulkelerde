{
 "cells": [
  {
   "cell_type": "markdown",
   "id": "5e7c17ed",
   "metadata": {},
   "source": [
    "# Proje 1: Ülkelerde Görülen Hastalık Üzerine Tahmin Yapan Model"
   ]
  },
  {
   "cell_type": "code",
   "execution_count": 2,
   "id": "aa803bd4",
   "metadata": {},
   "outputs": [
    {
     "name": "stdout",
     "output_type": "stream",
     "text": [
      "Gradient Boosting Regressor Performansı:\n",
      "Ortalama Mutlak Hata (MAE): 3.966965664807573\n",
      "Ortalama Kare Hata (MSE): 23.409774661243404\n",
      "R-kare (R²): 0.4777851064673331\n",
      "Adaptive Boosting Regressor Performansı:\n",
      "Ortalama Mutlak Hata (MAE): 5.1951327255907875\n",
      "Ortalama Kare Hata (MSE): 39.51930056498178\n",
      "R-kare (R²): 0.11842093161219414\n"
     ]
    }
   ],
   "source": [
    "import pandas as pd\n",
    "from sklearn.model_selection import train_test_split\n",
    "from sklearn.preprocessing import LabelEncoder\n",
    "from sklearn.ensemble import GradientBoostingRegressor, AdaBoostRegressor\n",
    "from sklearn.metrics import mean_absolute_error, mean_squared_error, r2_score\n",
    "\n",
    "# Veriyi yükleme\n",
    "data = pd.read_csv(r'C:\\Users\\realb\\Desktop\\ülkelerde görülen hastalık durumuna göre ML projesi\\30-70cancerChdEtc.csv')\n",
    "\n",
    "# Kategorik değişkenleri kodlama\n",
    "label_encoders = {}\n",
    "for column in ['Location', 'Indicator', 'Dim1']:\n",
    "    le = LabelEncoder()\n",
    "    data[column] = le.fit_transform(data[column])\n",
    "    label_encoders[column] = le\n",
    "\n",
    "# Özellikler ve hedef değişkeni ayırma\n",
    "X = data[['Location', 'Period', 'Indicator', 'Dim1']]\n",
    "y = data['First Tooltip']\n",
    "\n",
    "# Veriyi eğitim ve test setlerine bölme\n",
    "X_train, X_test, y_train, y_test = train_test_split(X, y, test_size=0.2, random_state=42)\n",
    "\n",
    "# Gradient Boosting Regressor Eğitimi\n",
    "gbr = GradientBoostingRegressor(random_state=42)\n",
    "gbr.fit(X_train, y_train)\n",
    "y_pred_gbr = gbr.predict(X_test)\n",
    "\n",
    "# Model Değerlendirmesi\n",
    "mae_gbr = mean_absolute_error(y_test, y_pred_gbr)\n",
    "mse_gbr = mean_squared_error(y_test, y_pred_gbr)\n",
    "r2_gbr = r2_score(y_test, y_pred_gbr)\n",
    "\n",
    "print(\"Gradient Boosting Regressor Performansı:\")\n",
    "print(f\"Ortalama Mutlak Hata (MAE): {mae_gbr}\")\n",
    "print(f\"Ortalama Kare Hata (MSE): {mse_gbr}\")\n",
    "print(f\"R-kare (R²): {r2_gbr}\")\n",
    "\n",
    "# Adaptive Boosting Regressor Eğitimi\n",
    "abr = AdaBoostRegressor(random_state=42)\n",
    "abr.fit(X_train, y_train)\n",
    "y_pred_abr = abr.predict(X_test)\n",
    "\n",
    "# Model Değerlendirmesi\n",
    "mae_abr = mean_absolute_error(y_test, y_pred_abr)\n",
    "mse_abr = mean_squared_error(y_test, y_pred_abr)\n",
    "r2_abr = r2_score(y_test, y_pred_abr)\n",
    "\n",
    "print(\"Adaptive Boosting Regressor Performansı:\")\n",
    "print(f\"Ortalama Mutlak Hata (MAE): {mae_abr}\")\n",
    "print(f\"Ortalama Kare Hata (MSE): {mse_abr}\")\n",
    "print(f\"R-kare (R²): {r2_abr}\")\n"
   ]
  }
 ],
 "metadata": {
  "kernelspec": {
   "display_name": "Python 3 (ipykernel)",
   "language": "python",
   "name": "python3"
  },
  "language_info": {
   "codemirror_mode": {
    "name": "ipython",
    "version": 3
   },
   "file_extension": ".py",
   "mimetype": "text/x-python",
   "name": "python",
   "nbconvert_exporter": "python",
   "pygments_lexer": "ipython3",
   "version": "3.11.5"
  }
 },
 "nbformat": 4,
 "nbformat_minor": 5
}
